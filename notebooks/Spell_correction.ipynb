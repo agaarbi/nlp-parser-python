{
 "cells": [
  {
   "cell_type": "code",
   "execution_count": 2,
   "metadata": {},
   "outputs": [
    {
     "name": "stdout",
     "output_type": "stream",
     "text": [
      "original text: cmputr\n",
      "corrected text: computer\n"
     ]
    }
   ],
   "source": [
    "from textblob import TextBlob\n",
    " \n",
    "a = \"cmputr\"           # incorrect spelling\n",
    "print(\"original text: \"+str(a))\n",
    " \n",
    "b = TextBlob(a)\n",
    " \n",
    "# prints the corrected spelling\n",
    "print(\"corrected text: \"+str(b.correct()))\n",
    "\n"
   ]
  },
  {
   "cell_type": "code",
   "execution_count": 3,
   "metadata": {},
   "outputs": [
    {
     "name": "stdout",
     "output_type": "stream",
     "text": [
      "computer\n",
      "{'caput', 'compute', 'computer', 'caputo', 'impute'}\n",
      "water\n",
      "{'war', 'wath', 'wate', 'watt', 'water', 'wart', 'atr', 'watc', 'waar', 'wanr', 'wats', 'wat'}\n"
     ]
    }
   ],
   "source": [
    "\n",
    "from spellchecker import SpellChecker\n",
    " \n",
    "spell = SpellChecker()\n",
    " \n",
    "# find those words that may be misspelled\n",
    "misspelled = spell.unknown([\"cmputr\", \"watr\", \"study\", \"wrte\"])\n",
    " \n",
    "for word in misspelled:\n",
    "    # Get the one `most likely` answer\n",
    "    print(spell.correction(word))\n",
    " \n",
    "    # Get a list of `likely` options\n",
    "    print(spell.candidates(word))"
   ]
  },
  {
   "cell_type": "code",
   "execution_count": null,
   "metadata": {},
   "outputs": [],
   "source": [
    "import jamspell\n",
    "\n",
    "corrector=jamspell.TSpellCorrector()\n",
    "corrector.LoadLangModel('en.bin')\n",
    "\n",
    "corrector.FixFragment('I am the begt spell cherken!')\n",
    "# u'I am the best spell checker!'\n",
    "\n",
    "corrector.GetCandidates(['i', 'am', 'the', 'begt', 'spell', 'cherken'], 3)\n",
    "# (u'best', u'beat', u'belt', u'bet', u'bent', ... )\n",
    "\n",
    "corrector.GetCandidates(['i', 'am', 'the', 'begt', 'spell', 'cherken'], 5)\n",
    "# (u'checker', u'chicken', u'checked', u'wherein', u'coherent', ...)"
   ]
  },
  {
   "cell_type": "code",
   "execution_count": 1,
   "metadata": {},
   "outputs": [
    {
     "data": {
      "text/plain": [
       "'does this sentence have misspelled word?'"
      ]
     },
     "execution_count": 1,
     "metadata": {},
     "output_type": "execute_result"
    }
   ],
   "source": [
    "from autocorrect import Speller\n",
    " \n",
    "check = Speller(lang='en')\n",
    "check(\"does this sentece have misspelled wordz?\")"
   ]
  },
  {
   "cell_type": "code",
   "execution_count": null,
   "metadata": {},
   "outputs": [],
   "source": []
  }
 ],
 "metadata": {
  "kernelspec": {
   "display_name": "Python 3.10.4 ('venv': venv)",
   "language": "python",
   "name": "python3"
  },
  "language_info": {
   "codemirror_mode": {
    "name": "ipython",
    "version": 3
   },
   "file_extension": ".py",
   "mimetype": "text/x-python",
   "name": "python",
   "nbconvert_exporter": "python",
   "pygments_lexer": "ipython3",
   "version": "3.10.4"
  },
  "orig_nbformat": 4,
  "vscode": {
   "interpreter": {
    "hash": "668d53f9dfc4947b66af285d4f877ff45195217cf50488870f5417083bcc4238"
   }
  }
 },
 "nbformat": 4,
 "nbformat_minor": 2
}
