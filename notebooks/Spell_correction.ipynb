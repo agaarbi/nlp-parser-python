{
 "cells": [
  {
   "cell_type": "code",
   "execution_count": 9,
   "metadata": {},
   "outputs": [],
   "source": [
    "import datetime"
   ]
  },
  {
   "cell_type": "code",
   "execution_count": 10,
   "metadata": {},
   "outputs": [],
   "source": [
    "queries = [\"Putin and Imran Khan Met in Russia before the Ukrainian War in february 2022\",\n",
    "\"Putin and Imran Khan meat in Russia before the ukrain War in febuarary 2022\",\n",
    "\"Puting and Imrant Khan Met over Russia beside the Ukranian War in february 2022\"]"
   ]
  },
  {
   "cell_type": "code",
   "execution_count": 11,
   "metadata": {},
   "outputs": [
    {
     "name": "stdout",
     "output_type": "stream",
     "text": [
      "TextBlob \n",
      "=========\n",
      "======================================================================\n",
      "original text: Putin and Imran Khan Met in Russia before the Ukrainian War in february 2022\n",
      "corrected text: Ruin and Man Than Met in Russia before the Ukrainian War in february 2022\n",
      "\n",
      "Time taken to process query: 6.1e-05 second(s)\n",
      "======================================================================\n",
      "\n",
      "======================================================================\n",
      "original text: Putin and Imran Khan meat in Russia before the ukrain War in febuarary 2022\n",
      "corrected text: Ruin and Man Than meat in Russia before the ukraine War in february 2022\n",
      "\n",
      "Time taken to process query: 7.8e-05 second(s)\n",
      "======================================================================\n",
      "\n",
      "======================================================================\n",
      "original text: Puting and Imrant Khan Met over Russia beside the Ukranian War in february 2022\n",
      "corrected text: Outing and Meant Than Met over Russia beside the Ukranian War in february 2022\n",
      "\n",
      "Time taken to process query: 0.00016 second(s)\n",
      "======================================================================\n",
      "\n"
     ]
    }
   ],
   "source": [
    "# TextBlob\n",
    "from typing import Text\n",
    "from textblob import TextBlob\n",
    "\n",
    "print(\"TextBlob \\n=========\") \n",
    "for query in queries:\n",
    "    t1 = datetime.datetime.now()\n",
    "    result = TextBlob(query)\n",
    "    t2 = datetime.datetime.now()\n",
    "    z = t2 - t1\n",
    "    print('======================================================================')\n",
    "    print(\"original text: \" + str(query))\n",
    "    print(\"corrected text: \"+ str(result.correct()) + \"\\n\")\n",
    "    print('Time taken to process query: {0} second(s)'.format(z.total_seconds()))\n",
    "    print('======================================================================\\n')\n"
   ]
  },
  {
   "cell_type": "code",
   "execution_count": 12,
   "metadata": {},
   "outputs": [
    {
     "name": "stdout",
     "output_type": "stream",
     "text": [
      "Autocorrect - Speller \n",
      "======================\n",
      "======================================================================\n",
      "original text: Putin and Imran Khan Met in Russia before the Ukrainian War in february 2022\n",
      "corrected text: Putin and Iran Khan Met in Russia before the Ukrainian War in february 2022\n",
      "\n",
      "Time taken to process query: 0.001383 second(s)\n",
      "======================================================================\n",
      "\n",
      "======================================================================\n",
      "original text: Putin and Imran Khan meat in Russia before the ukrain War in febuarary 2022\n",
      "corrected text: Putin and Iran Khan meat in Russia before the ukraine War in february 2022\n",
      "\n",
      "Time taken to process query: 0.467741 second(s)\n",
      "======================================================================\n",
      "\n",
      "======================================================================\n",
      "original text: Puting and Imrant Khan Met over Russia beside the Ukranian War in february 2022\n",
      "corrected text: Putting and Impact Khan Met over Russia beside the Ukrainian War in february 2022\n",
      "\n",
      "Time taken to process query: 0.21826 second(s)\n",
      "======================================================================\n",
      "\n"
     ]
    }
   ],
   "source": [
    "# Autocorrect - Speller\n",
    "from autocorrect import Speller\n",
    " \n",
    "check = Speller(lang='en')\n",
    "\n",
    "print(\"Autocorrect - Speller \\n======================\") \n",
    "for query in queries:\n",
    "    t1 = datetime.datetime.now()\n",
    "    result = check(query)\n",
    "    t2 = datetime.datetime.now()\n",
    "    z = t2 - t1\n",
    "    print('======================================================================')\n",
    "    print(\"original text: \" + str(query))\n",
    "    print(\"corrected text: \"+ str(result) + \"\\n\")\n",
    "    print('Time taken to process query: {0} second(s)'.format(z.total_seconds()))\n",
    "    print('======================================================================\\n')"
   ]
  },
  {
   "cell_type": "code",
   "execution_count": 13,
   "metadata": {},
   "outputs": [
    {
     "name": "stdout",
     "output_type": "stream",
     "text": [
      "Spacy - contextualSpellCheck \n",
      "=============================\n",
      "======================================================================\n",
      "original text: Putin and Imran Khan Met in Russia before the Ukrainian War in february 2022\n",
      "corrected text: Putin and Imran Khan Met in Russia before the Crimean War in January 2022\n",
      "\n",
      "Time taken to process query: 4.632707 second(s)\n",
      "======================================================================\n",
      "\n",
      "======================================================================\n",
      "original text: Putin and Imran Khan meat in Russia before the ukrain War in febuarary 2022\n",
      "corrected text: Putin and Imran Khan meat in Russia before the Iraq War in February 2022\n",
      "\n",
      "Time taken to process query: 4.033757 second(s)\n",
      "======================================================================\n",
      "\n",
      "======================================================================\n",
      "original text: Puting and Imrant Khan Met over Russia beside the Ukranian War in february 2022\n",
      "corrected text: Lenin and Imrant Khan Met over Russia beside the Crimean War in February 2022\n",
      "\n",
      "Time taken to process query: 4.56213 second(s)\n",
      "======================================================================\n",
      "\n"
     ]
    }
   ],
   "source": [
    "import spacy\n",
    "import contextualSpellCheck\n",
    "\n",
    "nlp = spacy.load('en_core_web_sm')\n",
    "contextualSpellCheck.add_to_pipe(nlp)\n",
    "\n",
    "print(\"Spacy - contextualSpellCheck \\n=============================\") \n",
    "for query in queries:\n",
    "    t1 = datetime.datetime.now()\n",
    "    doc = nlp(query)\n",
    "    result = doc._.outcome_spellCheck\n",
    "    t2 = datetime.datetime.now()\n",
    "    z = t2 - t1\n",
    "    print('======================================================================')\n",
    "    print(\"original text: \" + str(query))\n",
    "    print(\"corrected text: \"+ str(result) + \"\\n\")\n",
    "    print('Time taken to process query: {0} second(s)'.format(z.total_seconds()))\n",
    "    print('======================================================================\\n')"
   ]
  },
  {
   "cell_type": "code",
   "execution_count": 3,
   "metadata": {},
   "outputs": [
    {
     "name": "stdout",
     "output_type": "stream",
     "text": [
      "computer\n",
      "{'caput', 'compute', 'computer', 'caputo', 'impute'}\n",
      "water\n",
      "{'war', 'wath', 'wate', 'watt', 'water', 'wart', 'atr', 'watc', 'waar', 'wanr', 'wats', 'wat'}\n"
     ]
    }
   ],
   "source": [
    "\n",
    "from spellchecker import SpellChecker\n",
    " \n",
    "spell = SpellChecker()\n",
    "\n",
    "# find those words that may be misspelled\n",
    "misspelled = spell.unknown([\"cmputr\", \"watr\", \"study\", \"wrte\"])\n",
    " \n",
    "for word in misspelled:\n",
    "    # Get the one `most likely` answer\n",
    "    print(spell.correction(word))\n",
    " \n",
    "    # Get a list of `likely` options\n",
    "    print(spell.candidates(word))"
   ]
  },
  {
   "cell_type": "code",
   "execution_count": 14,
   "metadata": {},
   "outputs": [
    {
     "ename": "",
     "evalue": "",
     "output_type": "error",
     "traceback": [
      "\u001b[1;31mCanceled future for execute_request message before replies were done"
     ]
    },
    {
     "ename": "",
     "evalue": "",
     "output_type": "error",
     "traceback": [
      "The Kernel crashed while executing code in the the current cell or a previous cell. Please review the code in the cell(s) to identify a possible cause of the failure. Click <a href='https://aka.ms/vscodeJupyterKernelCrash'>here</a> for more info. View Jupyter <a href='command:jupyter.viewOutput'>log</a> for further details."
     ]
    }
   ],
   "source": [
    "import jamspell\n",
    "\n",
    "corrector=jamspell.TSpellCorrector()\n",
    "corrector.LoadLangModel('en.bin')\n",
    "\n",
    "corrector.FixFragment('I am the begt spell cherken!')\n",
    "# u'I am the best spell checker!'\n",
    "\n",
    "corrector.GetCandidates(['i', 'am', 'the', 'begt', 'spell', 'cherken'], 3)\n",
    "# (u'best', u'beat', u'belt', u'bet', u'bent', ... )\n",
    "\n",
    "corrector.GetCandidates(['i', 'am', 'the', 'begt', 'spell', 'cherken'], 5)\n",
    "# (u'checker', u'chicken', u'checked', u'wherein', u'coherent', ...)"
   ]
  },
  {
   "cell_type": "code",
   "execution_count": null,
   "metadata": {},
   "outputs": [],
   "source": []
  }
 ],
 "metadata": {
  "kernelspec": {
   "display_name": "Python 3.10.4 ('venv': venv)",
   "language": "python",
   "name": "python3"
  },
  "language_info": {
   "codemirror_mode": {
    "name": "ipython",
    "version": 3
   },
   "file_extension": ".py",
   "mimetype": "text/x-python",
   "name": "python",
   "nbconvert_exporter": "python",
   "pygments_lexer": "ipython3",
   "version": "3.10.4"
  },
  "orig_nbformat": 4,
  "vscode": {
   "interpreter": {
    "hash": "668d53f9dfc4947b66af285d4f877ff45195217cf50488870f5417083bcc4238"
   }
  }
 },
 "nbformat": 4,
 "nbformat_minor": 2
}
