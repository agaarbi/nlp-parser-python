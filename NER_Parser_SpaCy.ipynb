{
 "cells": [
  {
   "cell_type": "markdown",
   "metadata": {},
   "source": [
    "Libraries Installation\n",
    "\n",
    "- pip install spacy\n",
    "- python -m spacy download en_core_web_sm"
   ]
  },
  {
   "cell_type": "code",
   "execution_count": 16,
   "metadata": {},
   "outputs": [],
   "source": [
    "import json\n",
    "import spacy\n",
    "from spacy import displacy\n",
    "from collections import Counter\n",
    "import en_core_web_sm\n",
    "nlp = en_core_web_sm.load()"
   ]
  },
  {
   "cell_type": "code",
   "execution_count": 17,
   "metadata": {},
   "outputs": [],
   "source": [
    "class Entitites:\n",
    "    def __init__(self):\n",
    "        self._persons = []\n",
    "        self._groups = []\n",
    "        self._locations = []\n",
    "        self._events = []\n",
    "        self._time_references = []\n",
    "\n",
    "    @property\n",
    "    def persons(self):\n",
    "        return self._persons\n",
    "\n",
    "    @persons.setter\n",
    "    def persons(self, person):\n",
    "        self._persons.append(person)\n",
    "\n",
    "\n",
    "    @property\n",
    "    def groups(self):\n",
    "        return self._groups\n",
    "\n",
    "    @groups.setter\n",
    "    def groups(self, group):\n",
    "        self._groups.append(group)\n",
    "\n",
    "    \n",
    "    @property\n",
    "    def locations(self):\n",
    "        return self._locations\n",
    "\n",
    "    @locations.setter\n",
    "    def locations(self, location):\n",
    "        self._locations.append(location)\n",
    "\n",
    "\n",
    "    @property\n",
    "    def events(self):\n",
    "        return self._events\n",
    "\n",
    "    @events.setter\n",
    "    def events(self, event):\n",
    "        self._events.append(event)\n",
    "\n",
    "\n",
    "    @property\n",
    "    def time_references(self):\n",
    "        return self._time_references\n",
    "\n",
    "    @time_references.setter\n",
    "    def time_references(self, time_reference):\n",
    "        self._time_references.append(time_reference)   "
   ]
  },
  {
   "cell_type": "code",
   "execution_count": 18,
   "metadata": {},
   "outputs": [
    {
     "name": "stdout",
     "output_type": "stream",
     "text": [
      "Putin and Imran Khan Met in Russia before the Ukranian War in february 2022\n"
     ]
    }
   ],
   "source": [
    "query = input('Enter your query: ')\n",
    "print(query)"
   ]
  },
  {
   "cell_type": "code",
   "execution_count": 19,
   "metadata": {},
   "outputs": [],
   "source": [
    "\n",
    "query_ner = Entitites()\n",
    "\n",
    "persons_labels = ['PERSON']\n",
    "groups_labels = ['NORP']\n",
    "locations_labels = ['FAC', 'ORG', 'GPE', 'LOC']\n",
    "events_labels = ['EVENT']\n",
    "time_references_labels = ['DATE', 'TIME']\n",
    "\n",
    "for X in doc:\n",
    "    if X.ent_type_ in persons_labels:\n",
    "        query_ner.persons = X.text\n",
    "    elif X.ent_type_ in groups_labels:\n",
    "        query_ner.groups = X.text\n",
    "    elif X.ent_type_ in locations_labels:\n",
    "        query_ner.locations = X.text\n",
    "    elif X.ent_type_ in events_labels:\n",
    "        query_ner.events = X.text\n",
    "    elif X.ent_type_ in time_references_labels:\n",
    "        query_ner.time_references = X.text\n"
   ]
  },
  {
   "cell_type": "code",
   "execution_count": 21,
   "metadata": {},
   "outputs": [
    {
     "name": "stdout",
     "output_type": "stream",
     "text": [
      "{ \"Entities\": {\"persons\": [\"Putin\", \"Imran\", \"Khan\", \"Met\"], \"groups\": [], \"locations\": [\"Russia\"], \"events\": [\"the\", \"Ukranian\", \"War\"], \"time_references\": [\"february\", \"2022\"]}}\n"
     ]
    }
   ],
   "source": [
    "json_str = json.dumps(query_ner.__dict__)\n",
    "\n",
    "json_str = \"{ \\\"Entities\\\": \" + json_str + \"}\"\n",
    "json_str = json_str.replace(\"_persons\", \"persons\")\n",
    "json_str = json_str.replace(\"_groups\", \"groups\")\n",
    "json_str = json_str.replace(\"_locations\", \"locations\")\n",
    "json_str = json_str.replace(\"_events\", \"events\")\n",
    "json_str = json_str.replace(\"_time_references\", \"time_references\")\n",
    "\n",
    "print(json_str)"
   ]
  },
  {
   "cell_type": "code",
   "execution_count": null,
   "metadata": {},
   "outputs": [],
   "source": []
  }
 ],
 "metadata": {
  "kernelspec": {
   "display_name": "Python 3.10.4 ('venv': venv)",
   "language": "python",
   "name": "python3"
  },
  "language_info": {
   "codemirror_mode": {
    "name": "ipython",
    "version": 3
   },
   "file_extension": ".py",
   "mimetype": "text/x-python",
   "name": "python",
   "nbconvert_exporter": "python",
   "pygments_lexer": "ipython3",
   "version": "3.10.4"
  },
  "orig_nbformat": 4,
  "vscode": {
   "interpreter": {
    "hash": "668d53f9dfc4947b66af285d4f877ff45195217cf50488870f5417083bcc4238"
   }
  }
 },
 "nbformat": 4,
 "nbformat_minor": 2
}
