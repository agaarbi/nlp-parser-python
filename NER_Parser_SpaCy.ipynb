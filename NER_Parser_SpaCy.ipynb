{
 "cells": [
  {
   "cell_type": "markdown",
   "metadata": {},
   "source": [
    "Libraries Installation\n",
    "\n",
    "- pip install spacy\n",
    "- python -m spacy download en_core_web_sm"
   ]
  },
  {
   "cell_type": "code",
   "execution_count": 10,
   "metadata": {},
   "outputs": [],
   "source": [
    "import json\n",
    "import spacy\n",
    "from spacy import displacy\n",
    "from collections import Counter\n",
    "import en_core_web_sm\n",
    "nlp = en_core_web_sm.load()"
   ]
  },
  {
   "cell_type": "code",
   "execution_count": 11,
   "metadata": {},
   "outputs": [],
   "source": [
    "class Entitites:\n",
    "    def __init__(self):\n",
    "        self._persons = []\n",
    "        self._groups = []\n",
    "        self._locations = []\n",
    "        self._events = []\n",
    "        self._time_references = []\n",
    "\n",
    "    @property\n",
    "    def persons(self):\n",
    "        return self._persons\n",
    "\n",
    "    @persons.setter\n",
    "    def persons(self, person):\n",
    "        self._persons.append(person)\n",
    "\n",
    "\n",
    "    @property\n",
    "    def groups(self):\n",
    "        return self._groups\n",
    "\n",
    "    @groups.setter\n",
    "    def groups(self, group):\n",
    "        self._groups.append(group)\n",
    "\n",
    "    \n",
    "    @property\n",
    "    def locations(self):\n",
    "        return self._locations\n",
    "\n",
    "    @locations.setter\n",
    "    def locations(self, location):\n",
    "        self._locations.append(location)\n",
    "\n",
    "\n",
    "    @property\n",
    "    def events(self):\n",
    "        return self._events\n",
    "\n",
    "    @events.setter\n",
    "    def events(self, event):\n",
    "        self._events.append(event)\n",
    "\n",
    "\n",
    "    @property\n",
    "    def time_references(self):\n",
    "        return self._time_references\n",
    "\n",
    "    @time_references.setter\n",
    "    def time_references(self, time_reference):\n",
    "        self._time_references.append(time_reference)   "
   ]
  },
  {
   "cell_type": "code",
   "execution_count": 12,
   "metadata": {},
   "outputs": [
    {
     "data": {
      "text/plain": [
       "'\\nquery_ner = Entitites()\\nquery_ner.persons = \"Imran Khan\"\\nquery_ner.persons = \"Zardari\"\\nquery_ner.events = \"war\"\\nquery_ner.groups = \"Politics\"\\nquery_ner.locations = \"Pakistan\"\\nquery_ner.time_references = \"Morning\"\\n\\nprint(query_ner.persons)\\nprint(query_ner.events)\\nprint(query_ner.groups)\\nprint(query_ner.locations)\\nprint(query_ner.time_references)\\n'"
      ]
     },
     "execution_count": 12,
     "metadata": {},
     "output_type": "execute_result"
    }
   ],
   "source": [
    "\"\"\"\n",
    "query_ner = Entitites()\n",
    "query_ner.persons = \"Imran Khan\"\n",
    "query_ner.persons = \"Zardari\"\n",
    "query_ner.events = \"war\"\n",
    "query_ner.groups = \"Politics\"\n",
    "query_ner.locations = \"Pakistan\"\n",
    "query_ner.time_references = \"Morning\"\n",
    "\n",
    "print(query_ner.persons)\n",
    "print(query_ner.events)\n",
    "print(query_ner.groups)\n",
    "print(query_ner.locations)\n",
    "print(query_ner.time_references)\n",
    "\"\"\""
   ]
  },
  {
   "cell_type": "code",
   "execution_count": 13,
   "metadata": {},
   "outputs": [
    {
     "name": "stdout",
     "output_type": "stream",
     "text": [
      "<class 'str'>\n",
      "Putin and Imran Khan Met in Russia before the Ukranian War in March 2022.\n"
     ]
    }
   ],
   "source": [
    "# taking 'string' input\n",
    "query = input('Enter your query: ')\n",
    "# printing the type\n",
    "print(type(query))\n",
    "print(query)"
   ]
  },
  {
   "cell_type": "code",
   "execution_count": 14,
   "metadata": {},
   "outputs": [
    {
     "name": "stdout",
     "output_type": "stream",
     "text": [
      "[('Putin', 'PERSON'), ('Imran Khan Met', 'PERSON'), ('Russia', 'GPE'), ('the Ukranian War', 'EVENT'), ('March 2022', 'DATE')]\n"
     ]
    }
   ],
   "source": [
    "doc = nlp(query)\n",
    "print([(X.text, X.label_) for X in doc.ents])"
   ]
  },
  {
   "cell_type": "code",
   "execution_count": 15,
   "metadata": {},
   "outputs": [
    {
     "name": "stdout",
     "output_type": "stream",
     "text": [
      "PERSON\n",
      "PERSON\n",
      "GPE\n",
      "EVENT\n",
      "DATE\n"
     ]
    }
   ],
   "source": [
    "query_ner = Entitites()\n",
    "\n",
    "persons_labels = ['PERSON']\n",
    "groups_labels = ['NORP']\n",
    "locations_labels = ['FAC', 'ORG', 'GPE', 'LOC']\n",
    "events_labels = ['EVENT']\n",
    "time_references_labels = ['DATE', 'TIME']\n",
    "\n",
    "for X in doc.ents:\n",
    "    print(X.label_)\n",
    "    \n",
    "    if X.label_ in persons_labels:\n",
    "        query_ner.persons = X.text\n",
    "    elif X.label_ in groups_labels:\n",
    "        query_ner.groups = X.text\n",
    "    elif X.label_ in locations_labels:\n",
    "        query_ner.locations = X.text\n",
    "    elif X.label_ in events_labels:\n",
    "        query_ner.events = X.text\n",
    "    elif X.label_ in time_references_labels:\n",
    "        query_ner.time_references = X.text\n",
    "    "
   ]
  },
  {
   "cell_type": "code",
   "execution_count": 33,
   "metadata": {},
   "outputs": [
    {
     "name": "stdout",
     "output_type": "stream",
     "text": [
      "{ \"Entities\": {\"persons\": [\"Putin\", \"Imran Khan Met\"], \"groups\": [], \"locations\": [\"Russia\"], \"events\": [\"the Ukranian War\"], \"time_references\": [\"March 2022\"]}}\n",
      "<class 'str'>\n"
     ]
    }
   ],
   "source": [
    "json_str = json.dumps(query_ner.__dict__)\n",
    "\n",
    "json_str = \"{ \\\"Entities\\\": \" + json_str + \"}\"\n",
    "json_str = json_str.replace(\"_persons\", \"persons\")\n",
    "json_str = json_str.replace(\"_groups\", \"groups\")\n",
    "json_str = json_str.replace(\"_locations\", \"locations\")\n",
    "json_str = json_str.replace(\"_events\", \"events\")\n",
    "json_str = json_str.replace(\"_time_references\", \"time_references\")\n",
    "\n",
    "print(json_str)\n",
    "print(type(json_str))"
   ]
  },
  {
   "cell_type": "code",
   "execution_count": 34,
   "metadata": {},
   "outputs": [
    {
     "name": "stdout",
     "output_type": "stream",
     "text": [
      "[(Putin, 'B', 'PERSON'), (and, 'O', ''), (Imran, 'B', 'PERSON'), (Khan, 'I', 'PERSON'), (Met, 'I', 'PERSON'), (in, 'O', ''), (Russia, 'B', 'GPE'), (before, 'O', ''), (the, 'B', 'EVENT'), (Ukranian, 'I', 'EVENT'), (War, 'I', 'EVENT'), (in, 'O', ''), (March, 'B', 'DATE'), (2022, 'I', 'DATE'), (., 'O', '')]\n"
     ]
    }
   ],
   "source": [
    "print([(X, X.ent_iob_, X.ent_type_) for X in doc])"
   ]
  },
  {
   "cell_type": "code",
   "execution_count": 18,
   "metadata": {},
   "outputs": [
    {
     "data": {
      "text/html": [
       "<span class=\"tex2jax_ignore\"><div class=\"entities\" style=\"line-height: 2.5; direction: ltr\">\n",
       "<mark class=\"entity\" style=\"background: #aa9cfc; padding: 0.45em 0.6em; margin: 0 0.25em; line-height: 1; border-radius: 0.35em;\">\n",
       "    Putin\n",
       "    <span style=\"font-size: 0.8em; font-weight: bold; line-height: 1; border-radius: 0.35em; vertical-align: middle; margin-left: 0.5rem\">PERSON</span>\n",
       "</mark>\n",
       " and \n",
       "<mark class=\"entity\" style=\"background: #aa9cfc; padding: 0.45em 0.6em; margin: 0 0.25em; line-height: 1; border-radius: 0.35em;\">\n",
       "    Imran Khan Met\n",
       "    <span style=\"font-size: 0.8em; font-weight: bold; line-height: 1; border-radius: 0.35em; vertical-align: middle; margin-left: 0.5rem\">PERSON</span>\n",
       "</mark>\n",
       " in \n",
       "<mark class=\"entity\" style=\"background: #feca74; padding: 0.45em 0.6em; margin: 0 0.25em; line-height: 1; border-radius: 0.35em;\">\n",
       "    Russia\n",
       "    <span style=\"font-size: 0.8em; font-weight: bold; line-height: 1; border-radius: 0.35em; vertical-align: middle; margin-left: 0.5rem\">GPE</span>\n",
       "</mark>\n",
       " before \n",
       "<mark class=\"entity\" style=\"background: #ffeb80; padding: 0.45em 0.6em; margin: 0 0.25em; line-height: 1; border-radius: 0.35em;\">\n",
       "    the Ukranian War\n",
       "    <span style=\"font-size: 0.8em; font-weight: bold; line-height: 1; border-radius: 0.35em; vertical-align: middle; margin-left: 0.5rem\">EVENT</span>\n",
       "</mark>\n",
       " in \n",
       "<mark class=\"entity\" style=\"background: #bfe1d9; padding: 0.45em 0.6em; margin: 0 0.25em; line-height: 1; border-radius: 0.35em;\">\n",
       "    March 2022\n",
       "    <span style=\"font-size: 0.8em; font-weight: bold; line-height: 1; border-radius: 0.35em; vertical-align: middle; margin-left: 0.5rem\">DATE</span>\n",
       "</mark>\n",
       ".</div></span>"
      ],
      "text/plain": [
       "<IPython.core.display.HTML object>"
      ]
     },
     "metadata": {},
     "output_type": "display_data"
    }
   ],
   "source": [
    "displacy.render(nlp(query), jupyter=True, style='ent')"
   ]
  },
  {
   "cell_type": "code",
   "execution_count": null,
   "metadata": {},
   "outputs": [],
   "source": []
  }
 ],
 "metadata": {
  "kernelspec": {
   "display_name": "Python 3.10.4 ('venv': venv)",
   "language": "python",
   "name": "python3"
  },
  "language_info": {
   "codemirror_mode": {
    "name": "ipython",
    "version": 3
   },
   "file_extension": ".py",
   "mimetype": "text/x-python",
   "name": "python",
   "nbconvert_exporter": "python",
   "pygments_lexer": "ipython3",
   "version": "3.10.4"
  },
  "orig_nbformat": 4,
  "vscode": {
   "interpreter": {
    "hash": "668d53f9dfc4947b66af285d4f877ff45195217cf50488870f5417083bcc4238"
   }
  }
 },
 "nbformat": 4,
 "nbformat_minor": 2
}
